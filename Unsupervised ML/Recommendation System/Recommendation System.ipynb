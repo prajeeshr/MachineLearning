{
 "cells": [
  {
   "cell_type": "markdown",
   "metadata": {
    "id": "j9NBI0JNWwN3"
   },
   "source": [
    "## Table of Content\n",
    "\n",
    "1. **[Recommendation System](#System)**\n",
    "2. **[Types of recommendation System](#System1)**\n",
    "\n",
    "3. **[Popularity based recommendation system](#System3)**\n",
    "\n",
    "4. **[Content-based recommendation system](#System4)** \n",
    "\n",
    "5. **[Collaborative recommendation system](#System5)** \n",
    "\n"
   ]
  },
  {
   "cell_type": "markdown",
   "metadata": {
    "id": "ftCxC4m1WwN4"
   },
   "source": [
    "<a id=\"System\"> </a>\n",
    "## Recommendation System\n"
   ]
  },
  {
   "cell_type": "markdown",
   "metadata": {
    "id": "rasbaLIbWwN5"
   },
   "source": [
    "<table align=\"left\">\n",
    "    <tr>\n",
    "        <td width=\"15%\">\n",
    "        </td>\n",
    "        <td>\n",
    "            <div align=\"left\", style=\"font-size:120%\">\n",
    "                <font color=\"#21618C\">\n",
    "                    <b>Recommender systems aim to predict users’ interests and recommend product items that quite likely are interesting for them.<br>\n",
    "                        <br>Recommendation system will help businesses improve their shopper's,user experience or on website,youtub,amazon and result in better customer acquisition and retention.\n",
    "                    </b>\n",
    "                </font>\n",
    "            </div>\n",
    "        </td>\n",
    "    </tr>\n",
    "</table>"
   ]
  },
  {
   "cell_type": "markdown",
   "metadata": {
    "id": "U5JtfJFGu69a"
   },
   "source": [
    "<a id=\"System1\"> </a>\n",
    "## Types of recommendation system\n"
   ]
  },
  {
   "cell_type": "markdown",
   "metadata": {
    "id": "ilx9djl-WwOE"
   },
   "source": [
    "\n",
    "\n",
    "<table align=\"left\">\n",
    "    <tr>\n",
    "        <td width=\"15%\">\n",
    "        </td>\n",
    "        <td>\n",
    "            <div align=\"left\", style=\"font-size:120%\">\n",
    "                <font color=\"#21618C\">\n",
    "                    <b>There are majorly six types of recommender systems which work primarily in the Media and Entertainment industry::<br><br>\n",
    "                        1. Popularity based recommendation system<br>\n",
    "                        2. Content-based recommendation system<br>\n",
    "                        3. Collaborative recommendation system<br>\n",
    "                        4. Matrix factorization recommendation system<br>\n",
    "                        5. Association Rule<br>\n",
    "                        6. Hybrid-recommendation system <br>\n",
    "                    </b>\n",
    "                </font>\n",
    "            </div>\n",
    "        </td>\n",
    "    </tr>\n",
    "</table>\n",
    "\n",
    "\n"
   ]
  },
  {
   "cell_type": "markdown",
   "metadata": {
    "id": "CsBmb4pEu69a"
   },
   "source": [
    "<a id=\"System3\"> </a>\n",
    "\n",
    "###  Popularity based recommendation system"
   ]
  },
  {
   "cell_type": "markdown",
   "metadata": {
    "id": "Tv0Ttstku69a"
   },
   "source": [
    "<table align=\"left\">\n",
    "    <tr>\n",
    "        <td width=\"15%\">\n",
    "        </td>\n",
    "        <td>\n",
    "            <div align=\"left\", style=\"font-size:120%\">\n",
    "                <font color=\"#21618C\">\n",
    "                    <b>This model is not actually personalized - it simply recommends to a user the most popular items that the user has not previously consumed i.e. even though you know the behaviour of the user you cannot recommend items accordingly.<br>\n",
    "                    </b>\n",
    "                </font>\n",
    "            </div>\n",
    "        </td>\n",
    "    </tr>\n",
    "</table>"
   ]
  },
  {
   "cell_type": "markdown",
   "metadata": {
    "id": "za7HfbIvu69b"
   },
   "source": [
    "<table align=\"left\">\n",
    "    <tr>\n",
    "        <td width=\"15%\">\n",
    "        </td>\n",
    "        <td>\n",
    "            <div align=\"left\", style=\"font-size:200%\">\n",
    "                <font color=\"#21618C\">\n",
    "                    <b>Read the movie_dataset.csv.<br>\n",
    "                    </b>\n",
    "                </font>\n",
    "            </div>\n",
    "        </td>\n",
    "    </tr>\n",
    "</table>"
   ]
  },
  {
   "cell_type": "markdown",
   "metadata": {
    "id": "cB1tcRyVu69b"
   },
   "source": [
    "#### Import the basic libraries"
   ]
  },
  {
   "cell_type": "code",
   "execution_count": 1,
   "metadata": {
    "id": "FWFhpZDUu69b"
   },
   "outputs": [],
   "source": [
    "import pandas as pd\n",
    "import numpy as np"
   ]
  },
  {
   "cell_type": "markdown",
   "metadata": {
    "id": "FnacUn7bu69b"
   },
   "source": [
    "#### Reading the movie_dataset.csv"
   ]
  },
  {
   "cell_type": "code",
   "execution_count": 2,
   "metadata": {
    "id": "FZ3d3HJPu69b"
   },
   "outputs": [],
   "source": [
    "data=pd.read_csv(r'')"
   ]
  },
  {
   "cell_type": "code",
   "execution_count": 3,
   "metadata": {
    "id": "34mAcvITu69b",
    "outputId": "45d39706-676f-4ce9-b64d-6c9652ce98f0"
   },
   "outputs": [
    {
     "data": {
      "text/html": [
       "<div>\n",
       "<style scoped>\n",
       "    .dataframe tbody tr th:only-of-type {\n",
       "        vertical-align: middle;\n",
       "    }\n",
       "\n",
       "    .dataframe tbody tr th {\n",
       "        vertical-align: top;\n",
       "    }\n",
       "\n",
       "    .dataframe thead th {\n",
       "        text-align: right;\n",
       "    }\n",
       "</style>\n",
       "<table border=\"1\" class=\"dataframe\">\n",
       "  <thead>\n",
       "    <tr style=\"text-align: right;\">\n",
       "      <th></th>\n",
       "      <th>Unnamed: 0</th>\n",
       "      <th>userID</th>\n",
       "      <th>ISBN</th>\n",
       "      <th>bookRating</th>\n",
       "      <th>bookTitle</th>\n",
       "      <th>totalRatingCount</th>\n",
       "      <th>Location</th>\n",
       "    </tr>\n",
       "  </thead>\n",
       "  <tbody>\n",
       "    <tr>\n",
       "      <th>0</th>\n",
       "      <td>0</td>\n",
       "      <td>276725</td>\n",
       "      <td>034545104X</td>\n",
       "      <td>0</td>\n",
       "      <td>Flesh Tones: A Novel</td>\n",
       "      <td>60</td>\n",
       "      <td>tyler, texas, usa</td>\n",
       "    </tr>\n",
       "    <tr>\n",
       "      <th>1</th>\n",
       "      <td>1</td>\n",
       "      <td>2313</td>\n",
       "      <td>034545104X</td>\n",
       "      <td>5</td>\n",
       "      <td>Flesh Tones: A Novel</td>\n",
       "      <td>60</td>\n",
       "      <td>cincinnati, ohio, usa</td>\n",
       "    </tr>\n",
       "  </tbody>\n",
       "</table>\n",
       "</div>"
      ],
      "text/plain": [
       "   Unnamed: 0  userID        ISBN  bookRating             bookTitle  \\\n",
       "0           0  276725  034545104X           0  Flesh Tones: A Novel   \n",
       "1           1    2313  034545104X           5  Flesh Tones: A Novel   \n",
       "\n",
       "   totalRatingCount               Location  \n",
       "0                60      tyler, texas, usa  \n",
       "1                60  cincinnati, ohio, usa  "
      ]
     },
     "execution_count": 3,
     "metadata": {},
     "output_type": "execute_result"
    }
   ],
   "source": [
    "data.head(2)"
   ]
  },
  {
   "cell_type": "markdown",
   "metadata": {
    "id": "bplsHMu-u69c"
   },
   "source": [
    "### Popularity Based Recommendation System"
   ]
  },
  {
   "cell_type": "code",
   "execution_count": 4,
   "metadata": {
    "id": "SqiSRx-Wu69c",
    "outputId": "0dd94d1e-d8c9-48e1-98b1-066e135e7280"
   },
   "outputs": [
    {
     "data": {
      "text/html": [
       "<div>\n",
       "<style scoped>\n",
       "    .dataframe tbody tr th:only-of-type {\n",
       "        vertical-align: middle;\n",
       "    }\n",
       "\n",
       "    .dataframe tbody tr th {\n",
       "        vertical-align: top;\n",
       "    }\n",
       "\n",
       "    .dataframe thead th {\n",
       "        text-align: right;\n",
       "    }\n",
       "</style>\n",
       "<table border=\"1\" class=\"dataframe\">\n",
       "  <thead>\n",
       "    <tr style=\"text-align: right;\">\n",
       "      <th></th>\n",
       "      <th>bookRating</th>\n",
       "    </tr>\n",
       "    <tr>\n",
       "      <th>bookTitle</th>\n",
       "      <th></th>\n",
       "    </tr>\n",
       "  </thead>\n",
       "  <tbody>\n",
       "    <tr>\n",
       "      <th>Das Parfum: Die Geschichte Eines Morders</th>\n",
       "      <td>10.000000</td>\n",
       "    </tr>\n",
       "    <tr>\n",
       "      <th>Matilda</th>\n",
       "      <td>8.000000</td>\n",
       "    </tr>\n",
       "    <tr>\n",
       "      <th>Harry Potter and the Chamber of Secrets (Book 2)</th>\n",
       "      <td>6.720588</td>\n",
       "    </tr>\n",
       "    <tr>\n",
       "      <th>MÃ?Â¶rder ohne Gesicht.</th>\n",
       "      <td>6.500000</td>\n",
       "    </tr>\n",
       "    <tr>\n",
       "      <th>Ender's Game (Ender Wiggins Saga (Paperback))</th>\n",
       "      <td>5.857143</td>\n",
       "    </tr>\n",
       "    <tr>\n",
       "      <th>...</th>\n",
       "      <td>...</td>\n",
       "    </tr>\n",
       "    <tr>\n",
       "      <th>The Law of Love</th>\n",
       "      <td>1.000000</td>\n",
       "    </tr>\n",
       "    <tr>\n",
       "      <th>Legend</th>\n",
       "      <td>0.777778</td>\n",
       "    </tr>\n",
       "    <tr>\n",
       "      <th>Hannibal</th>\n",
       "      <td>0.000000</td>\n",
       "    </tr>\n",
       "    <tr>\n",
       "      <th>Childhood's End</th>\n",
       "      <td>0.000000</td>\n",
       "    </tr>\n",
       "    <tr>\n",
       "      <th>The Return</th>\n",
       "      <td>0.000000</td>\n",
       "    </tr>\n",
       "  </tbody>\n",
       "</table>\n",
       "<p>198 rows × 1 columns</p>\n",
       "</div>"
      ],
      "text/plain": [
       "                                                  bookRating\n",
       "bookTitle                                                   \n",
       "Das Parfum: Die Geschichte Eines Morders           10.000000\n",
       "Matilda                                             8.000000\n",
       "Harry Potter and the Chamber of Secrets (Book 2)    6.720588\n",
       "MÃ?Â¶rder ohne Gesicht.                             6.500000\n",
       "Ender's Game (Ender Wiggins Saga (Paperback))       5.857143\n",
       "...                                                      ...\n",
       "The Law of Love                                     1.000000\n",
       "Legend                                              0.777778\n",
       "Hannibal                                            0.000000\n",
       "Childhood's End                                     0.000000\n",
       "The Return                                          0.000000\n",
       "\n",
       "[198 rows x 1 columns]"
      ]
     },
     "execution_count": 4,
     "metadata": {},
     "output_type": "execute_result"
    }
   ],
   "source": [
    "# Top 10 books interms of average rating \n",
    "\n",
    "pd.DataFrame(data.groupby('bookTitle')['bookRating'].mean().sort_values(ascending=False))"
   ]
  },
  {
   "cell_type": "code",
   "execution_count": 5,
   "metadata": {
    "id": "6wU4B36Wu69c"
   },
   "outputs": [],
   "source": [
    "# some books may get high average rating , but it is not reviewed by many users\n",
    "# Hence we need to consider the review count also for better recommendation\n",
    "popularity_table=data.groupby('bookTitle').agg({'bookRating':'mean','totalRatingCount':'count'})"
   ]
  },
  {
   "cell_type": "code",
   "execution_count": 6,
   "metadata": {
    "id": "aOKpQ3ROu69c"
   },
   "outputs": [],
   "source": [
    "#popularity_table['rating_per_count']=popularity_table['bookRating']/popularity_table['totalRatingCount']\n",
    "#popularity_table.sort_values('rating_per_count',ascending=False)"
   ]
  },
  {
   "cell_type": "code",
   "execution_count": 7,
   "metadata": {
    "id": "M7eiTtQEu69c"
   },
   "outputs": [],
   "source": [
    "#consider the books for recommendation only if it has 100 rating counts\n",
    "top_popularity_table=popularity_table[popularity_table['totalRatingCount']>100]"
   ]
  },
  {
   "cell_type": "code",
   "execution_count": 8,
   "metadata": {
    "id": "kIJ2vlOhu69d",
    "outputId": "67d5126d-ce91-4f83-b4b0-caa15cd1f3da",
    "scrolled": true
   },
   "outputs": [
    {
     "data": {
      "text/html": [
       "<div>\n",
       "<style scoped>\n",
       "    .dataframe tbody tr th:only-of-type {\n",
       "        vertical-align: middle;\n",
       "    }\n",
       "\n",
       "    .dataframe tbody tr th {\n",
       "        vertical-align: top;\n",
       "    }\n",
       "\n",
       "    .dataframe thead th {\n",
       "        text-align: right;\n",
       "    }\n",
       "</style>\n",
       "<table border=\"1\" class=\"dataframe\">\n",
       "  <thead>\n",
       "    <tr style=\"text-align: right;\">\n",
       "      <th></th>\n",
       "      <th>bookRating</th>\n",
       "      <th>totalRatingCount</th>\n",
       "    </tr>\n",
       "    <tr>\n",
       "      <th>bookTitle</th>\n",
       "      <th></th>\n",
       "      <th></th>\n",
       "    </tr>\n",
       "  </thead>\n",
       "  <tbody>\n",
       "    <tr>\n",
       "      <th>Harry Potter and the Chamber of Secrets (Book 2)</th>\n",
       "      <td>6.720588</td>\n",
       "      <td>136</td>\n",
       "    </tr>\n",
       "    <tr>\n",
       "      <th>Harry Potter and the Order of the Phoenix (Book 5)</th>\n",
       "      <td>5.565693</td>\n",
       "      <td>274</td>\n",
       "    </tr>\n",
       "    <tr>\n",
       "      <th>Harry Potter and the Sorcerer's Stone (Harry Potter (Paperback))</th>\n",
       "      <td>4.850598</td>\n",
       "      <td>502</td>\n",
       "    </tr>\n",
       "    <tr>\n",
       "      <th>To Kill a Mockingbird</th>\n",
       "      <td>4.761329</td>\n",
       "      <td>331</td>\n",
       "    </tr>\n",
       "    <tr>\n",
       "      <th>The Da Vinci Code</th>\n",
       "      <td>4.699329</td>\n",
       "      <td>745</td>\n",
       "    </tr>\n",
       "    <tr>\n",
       "      <th>The Lovely Bones: A Novel</th>\n",
       "      <td>4.622624</td>\n",
       "      <td>1052</td>\n",
       "    </tr>\n",
       "    <tr>\n",
       "      <th>Fahrenheit 451</th>\n",
       "      <td>4.615120</td>\n",
       "      <td>291</td>\n",
       "    </tr>\n",
       "    <tr>\n",
       "      <th>A Wrinkle In Time</th>\n",
       "      <td>4.569444</td>\n",
       "      <td>144</td>\n",
       "    </tr>\n",
       "    <tr>\n",
       "      <th>Girl with a Pearl Earring</th>\n",
       "      <td>4.319648</td>\n",
       "      <td>341</td>\n",
       "    </tr>\n",
       "    <tr>\n",
       "      <th>The Notebook</th>\n",
       "      <td>4.307692</td>\n",
       "      <td>104</td>\n",
       "    </tr>\n",
       "  </tbody>\n",
       "</table>\n",
       "</div>"
      ],
      "text/plain": [
       "                                                    bookRating  \\\n",
       "bookTitle                                                        \n",
       "Harry Potter and the Chamber of Secrets (Book 2)      6.720588   \n",
       "Harry Potter and the Order of the Phoenix (Book 5)    5.565693   \n",
       "Harry Potter and the Sorcerer's Stone (Harry Po...    4.850598   \n",
       "To Kill a Mockingbird                                 4.761329   \n",
       "The Da Vinci Code                                     4.699329   \n",
       "The Lovely Bones: A Novel                             4.622624   \n",
       "Fahrenheit 451                                        4.615120   \n",
       "A Wrinkle In Time                                     4.569444   \n",
       "Girl with a Pearl Earring                             4.319648   \n",
       "The Notebook                                          4.307692   \n",
       "\n",
       "                                                    totalRatingCount  \n",
       "bookTitle                                                             \n",
       "Harry Potter and the Chamber of Secrets (Book 2)                 136  \n",
       "Harry Potter and the Order of the Phoenix (Book 5)               274  \n",
       "Harry Potter and the Sorcerer's Stone (Harry Po...               502  \n",
       "To Kill a Mockingbird                                            331  \n",
       "The Da Vinci Code                                                745  \n",
       "The Lovely Bones: A Novel                                       1052  \n",
       "Fahrenheit 451                                                   291  \n",
       "A Wrinkle In Time                                                144  \n",
       "Girl with a Pearl Earring                                        341  \n",
       "The Notebook                                                     104  "
      ]
     },
     "execution_count": 8,
     "metadata": {},
     "output_type": "execute_result"
    }
   ],
   "source": [
    "#Top 10 books to recommed based on popularity\n",
    "top_popularity_table.sort_values('bookRating',ascending=False).head(10)"
   ]
  },
  {
   "cell_type": "markdown",
   "metadata": {
    "id": "KLGB37UPu69d"
   },
   "source": [
    "##### So, I hope you now have enough idea about the popularity based recommendation system lets get into Content-based recommendation system"
   ]
  },
  {
   "cell_type": "markdown",
   "metadata": {
    "id": "uGA6gUM7u69d"
   },
   "source": [
    "<a id=\"System4\"> </a>\n",
    "\n",
    "###  Content-based recommendation system"
   ]
  },
  {
   "cell_type": "markdown",
   "metadata": {
    "id": "16H0TXTwu69d"
   },
   "source": [
    "<table align=\"left\">\n",
    "    <tr>\n",
    "        <td width=\"15%\">\n",
    "        </td>\n",
    "        <td>\n",
    "            <div align=\"left\", style=\"font-size:120%\">\n",
    "                <font color=\"#21618C\">\n",
    "                    <b>This method uses only information about the description and attributes of the items users has previously consumed to model user's preferences. In other words, these algorithms try to recommend items that are similar to those that a user liked in the past (or is examining in the present). In particular, various candidate items are compared with items previously rated by the user and the best-matching items are recommended..<br>\n",
    "                    </b>\n",
    "                </font>\n",
    "            </div>\n",
    "        </td>\n",
    "    </tr>\n",
    "</table>"
   ]
  },
  {
   "cell_type": "markdown",
   "metadata": {
    "id": "Gqo8GP02u69d"
   },
   "source": [
    "<table align=\"left\">\n",
    "    <tr>\n",
    "        <td width=\"15%\">\n",
    "        </td>\n",
    "        <td>\n",
    "            <div align=\"left\", style=\"font-size:200%\">\n",
    "                <font color=\"#21618C\">\n",
    "                    <b>Read the movie_metadata.csv dataset.<br>\n",
    "                    </b>\n",
    "                </font>\n",
    "            </div>\n",
    "        </td>\n",
    "    </tr>\n",
    "</table>"
   ]
  },
  {
   "cell_type": "code",
   "execution_count": 9,
   "metadata": {
    "id": "giAzSsGR5Ev0"
   },
   "outputs": [],
   "source": [
    "#### A simple Content Based Recommendation System"
   ]
  },
  {
   "cell_type": "code",
   "execution_count": null,
   "metadata": {
    "id": "p_oj2WwPu69e"
   },
   "outputs": [],
   "source": []
  },
  {
   "cell_type": "markdown",
   "metadata": {
    "id": "87zY79APu69e"
   },
   "source": [
    "### Content Based Recommendation"
   ]
  },
  {
   "cell_type": "code",
   "execution_count": 11,
   "metadata": {
    "id": "2rWdqQZdu69e"
   },
   "outputs": [],
   "source": [
    "data1=pd.read_csv(r'')"
   ]
  },
  {
   "cell_type": "code",
   "execution_count": 12,
   "metadata": {
    "id": "FCtJ3CNau69e",
    "outputId": "9149a41e-c14d-47f4-dee6-30a55f91c57a"
   },
   "outputs": [
    {
     "data": {
      "text/html": [
       "<div>\n",
       "<style scoped>\n",
       "    .dataframe tbody tr th:only-of-type {\n",
       "        vertical-align: middle;\n",
       "    }\n",
       "\n",
       "    .dataframe tbody tr th {\n",
       "        vertical-align: top;\n",
       "    }\n",
       "\n",
       "    .dataframe thead th {\n",
       "        text-align: right;\n",
       "    }\n",
       "</style>\n",
       "<table border=\"1\" class=\"dataframe\">\n",
       "  <thead>\n",
       "    <tr style=\"text-align: right;\">\n",
       "      <th></th>\n",
       "      <th>color</th>\n",
       "      <th>director_name</th>\n",
       "      <th>num_critic_for_reviews</th>\n",
       "      <th>duration</th>\n",
       "      <th>director_facebook_likes</th>\n",
       "      <th>actor_3_facebook_likes</th>\n",
       "      <th>actor_2_name</th>\n",
       "      <th>actor_1_facebook_likes</th>\n",
       "      <th>gross</th>\n",
       "      <th>genres</th>\n",
       "      <th>...</th>\n",
       "      <th>language</th>\n",
       "      <th>country</th>\n",
       "      <th>content_rating</th>\n",
       "      <th>budget</th>\n",
       "      <th>title_year</th>\n",
       "      <th>actor_2_facebook_likes</th>\n",
       "      <th>imdb_score</th>\n",
       "      <th>aspect_ratio</th>\n",
       "      <th>movie_facebook_likes</th>\n",
       "      <th>movieId</th>\n",
       "    </tr>\n",
       "  </thead>\n",
       "  <tbody>\n",
       "    <tr>\n",
       "      <th>0</th>\n",
       "      <td>Color</td>\n",
       "      <td>James Cameron</td>\n",
       "      <td>723.0</td>\n",
       "      <td>178.0</td>\n",
       "      <td>0.0</td>\n",
       "      <td>855.0</td>\n",
       "      <td>Joel David Moore</td>\n",
       "      <td>1000.0</td>\n",
       "      <td>760505847.0</td>\n",
       "      <td>Action|Adventure|Fantasy|Sci-Fi</td>\n",
       "      <td>...</td>\n",
       "      <td>English</td>\n",
       "      <td>USA</td>\n",
       "      <td>PG-13</td>\n",
       "      <td>237000000.0</td>\n",
       "      <td>2009.0</td>\n",
       "      <td>936.0</td>\n",
       "      <td>7.9</td>\n",
       "      <td>1.78</td>\n",
       "      <td>33000</td>\n",
       "      <td>36</td>\n",
       "    </tr>\n",
       "    <tr>\n",
       "      <th>1</th>\n",
       "      <td>Color</td>\n",
       "      <td>Gore Verbinski</td>\n",
       "      <td>302.0</td>\n",
       "      <td>169.0</td>\n",
       "      <td>563.0</td>\n",
       "      <td>1000.0</td>\n",
       "      <td>Orlando Bloom</td>\n",
       "      <td>40000.0</td>\n",
       "      <td>309404152.0</td>\n",
       "      <td>Action|Adventure|Fantasy</td>\n",
       "      <td>...</td>\n",
       "      <td>English</td>\n",
       "      <td>USA</td>\n",
       "      <td>PG-13</td>\n",
       "      <td>300000000.0</td>\n",
       "      <td>2007.0</td>\n",
       "      <td>5000.0</td>\n",
       "      <td>7.1</td>\n",
       "      <td>2.35</td>\n",
       "      <td>0</td>\n",
       "      <td>1034</td>\n",
       "    </tr>\n",
       "  </tbody>\n",
       "</table>\n",
       "<p>2 rows × 29 columns</p>\n",
       "</div>"
      ],
      "text/plain": [
       "   color   director_name  num_critic_for_reviews  duration  \\\n",
       "0  Color   James Cameron                   723.0     178.0   \n",
       "1  Color  Gore Verbinski                   302.0     169.0   \n",
       "\n",
       "   director_facebook_likes  actor_3_facebook_likes      actor_2_name  \\\n",
       "0                      0.0                   855.0  Joel David Moore   \n",
       "1                    563.0                  1000.0     Orlando Bloom   \n",
       "\n",
       "   actor_1_facebook_likes        gross                           genres  ...  \\\n",
       "0                  1000.0  760505847.0  Action|Adventure|Fantasy|Sci-Fi  ...   \n",
       "1                 40000.0  309404152.0         Action|Adventure|Fantasy  ...   \n",
       "\n",
       "  language country  content_rating       budget title_year  \\\n",
       "0  English     USA           PG-13  237000000.0     2009.0   \n",
       "1  English     USA           PG-13  300000000.0     2007.0   \n",
       "\n",
       "   actor_2_facebook_likes imdb_score aspect_ratio  movie_facebook_likes  \\\n",
       "0                   936.0        7.9         1.78                 33000   \n",
       "1                  5000.0        7.1         2.35                     0   \n",
       "\n",
       "  movieId  \n",
       "0      36  \n",
       "1    1034  \n",
       "\n",
       "[2 rows x 29 columns]"
      ]
     },
     "execution_count": 12,
     "metadata": {},
     "output_type": "execute_result"
    }
   ],
   "source": [
    "data1.head(2)"
   ]
  },
  {
   "cell_type": "code",
   "execution_count": 13,
   "metadata": {
    "id": "Z_Adx5UTu69e",
    "outputId": "ce3055cb-621d-4099-cc10-245b6f6b7b23"
   },
   "outputs": [
    {
     "data": {
      "text/plain": [
       "Index(['color', 'director_name', 'num_critic_for_reviews', 'duration',\n",
       "       'director_facebook_likes', 'actor_3_facebook_likes', 'actor_2_name',\n",
       "       'actor_1_facebook_likes', 'gross', 'genres', 'actor_1_name',\n",
       "       'movie_title', 'num_voted_users', 'cast_total_facebook_likes',\n",
       "       'actor_3_name', 'facenumber_in_poster', 'plot_keywords',\n",
       "       'movie_imdb_link', 'num_user_for_reviews', 'language', 'country',\n",
       "       'content_rating', 'budget', 'title_year', 'actor_2_facebook_likes',\n",
       "       'imdb_score', 'aspect_ratio', 'movie_facebook_likes', 'movieId'],\n",
       "      dtype='object')"
      ]
     },
     "execution_count": 13,
     "metadata": {},
     "output_type": "execute_result"
    }
   ],
   "source": [
    "data1.columns"
   ]
  },
  {
   "cell_type": "code",
   "execution_count": 14,
   "metadata": {
    "id": "rKw7-sZnu69e"
   },
   "outputs": [],
   "source": [
    "genres=data1['genres'].str.split('|',expand=True)\n",
    "genres=genres.iloc[:,0:3]"
   ]
  },
  {
   "cell_type": "code",
   "execution_count": 15,
   "metadata": {
    "id": "uXVyqHxYu69f"
   },
   "outputs": [],
   "source": [
    "genres=genres.fillna('Others')"
   ]
  },
  {
   "cell_type": "code",
   "execution_count": 16,
   "metadata": {
    "id": "eJ-UODLGu69f",
    "outputId": "657bca06-ba2d-4b46-b93f-f62d20c52dc0"
   },
   "outputs": [
    {
     "data": {
      "text/html": [
       "<div>\n",
       "<style scoped>\n",
       "    .dataframe tbody tr th:only-of-type {\n",
       "        vertical-align: middle;\n",
       "    }\n",
       "\n",
       "    .dataframe tbody tr th {\n",
       "        vertical-align: top;\n",
       "    }\n",
       "\n",
       "    .dataframe thead th {\n",
       "        text-align: right;\n",
       "    }\n",
       "</style>\n",
       "<table border=\"1\" class=\"dataframe\">\n",
       "  <thead>\n",
       "    <tr style=\"text-align: right;\">\n",
       "      <th></th>\n",
       "      <th>genre1</th>\n",
       "      <th>genre2</th>\n",
       "      <th>genre3</th>\n",
       "    </tr>\n",
       "  </thead>\n",
       "  <tbody>\n",
       "    <tr>\n",
       "      <th>0</th>\n",
       "      <td>Action</td>\n",
       "      <td>Adventure</td>\n",
       "      <td>Fantasy</td>\n",
       "    </tr>\n",
       "    <tr>\n",
       "      <th>1</th>\n",
       "      <td>Action</td>\n",
       "      <td>Adventure</td>\n",
       "      <td>Fantasy</td>\n",
       "    </tr>\n",
       "  </tbody>\n",
       "</table>\n",
       "</div>"
      ],
      "text/plain": [
       "   genre1     genre2   genre3\n",
       "0  Action  Adventure  Fantasy\n",
       "1  Action  Adventure  Fantasy"
      ]
     },
     "execution_count": 16,
     "metadata": {},
     "output_type": "execute_result"
    }
   ],
   "source": [
    "genres.columns=['genre1','genre2','genre3']\n",
    "genres.head(2)"
   ]
  },
  {
   "cell_type": "code",
   "execution_count": 17,
   "metadata": {
    "id": "tVQNUsjju69f"
   },
   "outputs": [],
   "source": [
    "data1=pd.concat([data1,genres],axis=1)"
   ]
  },
  {
   "cell_type": "code",
   "execution_count": 18,
   "metadata": {
    "id": "vaQdP_9eu69f"
   },
   "outputs": [],
   "source": [
    "#movie_feat=['movie_title','genre1','genre2','genre3','language','content_rating',\n",
    "           #'imdb_score','num_user_for_reviews','movie_facebook_likes']"
   ]
  },
  {
   "cell_type": "code",
   "execution_count": 19,
   "metadata": {
    "id": "A-FuHGGIu69f"
   },
   "outputs": [],
   "source": [
    "movie_feat=['movie_title','genre1','genre2','genre3','content_rating','imdb_score']"
   ]
  },
  {
   "cell_type": "code",
   "execution_count": 20,
   "metadata": {
    "id": "vvIo0YMiu69f"
   },
   "outputs": [],
   "source": [
    "data2=data1[movie_feat]"
   ]
  },
  {
   "cell_type": "code",
   "execution_count": 22,
   "metadata": {
    "id": "lydv9Vs0u69f"
   },
   "outputs": [],
   "source": [
    "data2=data2.drop_duplicates()"
   ]
  },
  {
   "cell_type": "code",
   "execution_count": 34,
   "metadata": {},
   "outputs": [
    {
     "data": {
      "text/plain": [
       "genre1             object\n",
       "genre2             object\n",
       "genre3             object\n",
       "content_rating     object\n",
       "imdb_score        float64\n",
       "dtype: object"
      ]
     },
     "execution_count": 34,
     "metadata": {},
     "output_type": "execute_result"
    }
   ],
   "source": [
    "data2.dtypes"
   ]
  },
  {
   "cell_type": "code",
   "execution_count": 23,
   "metadata": {
    "id": "VdtkHpdau69g"
   },
   "outputs": [],
   "source": [
    "data2.index=data2['movie_title']"
   ]
  },
  {
   "cell_type": "code",
   "execution_count": 24,
   "metadata": {
    "id": "5B7Ix6nnu69g"
   },
   "outputs": [],
   "source": [
    "data2=data2.drop('movie_title',axis=1)"
   ]
  },
  {
   "cell_type": "code",
   "execution_count": 25,
   "metadata": {
    "id": "DvYOgVDTu69g",
    "outputId": "4755e734-552a-40c3-f8cf-f88f4b3204e9"
   },
   "outputs": [
    {
     "data": {
      "text/html": [
       "<div>\n",
       "<style scoped>\n",
       "    .dataframe tbody tr th:only-of-type {\n",
       "        vertical-align: middle;\n",
       "    }\n",
       "\n",
       "    .dataframe tbody tr th {\n",
       "        vertical-align: top;\n",
       "    }\n",
       "\n",
       "    .dataframe thead th {\n",
       "        text-align: right;\n",
       "    }\n",
       "</style>\n",
       "<table border=\"1\" class=\"dataframe\">\n",
       "  <thead>\n",
       "    <tr style=\"text-align: right;\">\n",
       "      <th></th>\n",
       "      <th>genre1</th>\n",
       "      <th>genre2</th>\n",
       "      <th>genre3</th>\n",
       "      <th>content_rating</th>\n",
       "      <th>imdb_score</th>\n",
       "    </tr>\n",
       "    <tr>\n",
       "      <th>movie_title</th>\n",
       "      <th></th>\n",
       "      <th></th>\n",
       "      <th></th>\n",
       "      <th></th>\n",
       "      <th></th>\n",
       "    </tr>\n",
       "  </thead>\n",
       "  <tbody>\n",
       "    <tr>\n",
       "      <th>Avatar</th>\n",
       "      <td>Action</td>\n",
       "      <td>Adventure</td>\n",
       "      <td>Fantasy</td>\n",
       "      <td>PG-13</td>\n",
       "      <td>7.9</td>\n",
       "    </tr>\n",
       "    <tr>\n",
       "      <th>Pirates of the Caribbean: At World's End</th>\n",
       "      <td>Action</td>\n",
       "      <td>Adventure</td>\n",
       "      <td>Fantasy</td>\n",
       "      <td>PG-13</td>\n",
       "      <td>7.1</td>\n",
       "    </tr>\n",
       "  </tbody>\n",
       "</table>\n",
       "</div>"
      ],
      "text/plain": [
       "                                           genre1     genre2   genre3  \\\n",
       "movie_title                                                             \n",
       "Avatar                                     Action  Adventure  Fantasy   \n",
       "Pirates of the Caribbean: At World's End   Action  Adventure  Fantasy   \n",
       "\n",
       "                                          content_rating  imdb_score  \n",
       "movie_title                                                           \n",
       "Avatar                                             PG-13         7.9  \n",
       "Pirates of the Caribbean: At World's End           PG-13         7.1  "
      ]
     },
     "execution_count": 25,
     "metadata": {},
     "output_type": "execute_result"
    }
   ],
   "source": [
    "data2.head(2)"
   ]
  },
  {
   "cell_type": "code",
   "execution_count": 32,
   "metadata": {
    "id": "YipJWDRQu69g"
   },
   "outputs": [],
   "source": [
    "data3=pd.get_dummies(data2)"
   ]
  },
  {
   "cell_type": "code",
   "execution_count": 33,
   "metadata": {},
   "outputs": [
    {
     "data": {
      "text/html": [
       "<div>\n",
       "<style scoped>\n",
       "    .dataframe tbody tr th:only-of-type {\n",
       "        vertical-align: middle;\n",
       "    }\n",
       "\n",
       "    .dataframe tbody tr th {\n",
       "        vertical-align: top;\n",
       "    }\n",
       "\n",
       "    .dataframe thead th {\n",
       "        text-align: right;\n",
       "    }\n",
       "</style>\n",
       "<table border=\"1\" class=\"dataframe\">\n",
       "  <thead>\n",
       "    <tr style=\"text-align: right;\">\n",
       "      <th></th>\n",
       "      <th>imdb_score</th>\n",
       "      <th>genre1_Action</th>\n",
       "      <th>genre1_Adventure</th>\n",
       "      <th>genre1_Animation</th>\n",
       "      <th>genre1_Biography</th>\n",
       "      <th>genre1_Comedy</th>\n",
       "      <th>genre1_Crime</th>\n",
       "      <th>genre1_Documentary</th>\n",
       "      <th>genre1_Drama</th>\n",
       "      <th>genre1_Family</th>\n",
       "      <th>...</th>\n",
       "      <th>content_rating_PG-13</th>\n",
       "      <th>content_rating_Passed</th>\n",
       "      <th>content_rating_R</th>\n",
       "      <th>content_rating_TV-14</th>\n",
       "      <th>content_rating_TV-G</th>\n",
       "      <th>content_rating_TV-MA</th>\n",
       "      <th>content_rating_TV-PG</th>\n",
       "      <th>content_rating_TV-Y</th>\n",
       "      <th>content_rating_TV-Y7</th>\n",
       "      <th>content_rating_X</th>\n",
       "    </tr>\n",
       "    <tr>\n",
       "      <th>movie_title</th>\n",
       "      <th></th>\n",
       "      <th></th>\n",
       "      <th></th>\n",
       "      <th></th>\n",
       "      <th></th>\n",
       "      <th></th>\n",
       "      <th></th>\n",
       "      <th></th>\n",
       "      <th></th>\n",
       "      <th></th>\n",
       "      <th></th>\n",
       "      <th></th>\n",
       "      <th></th>\n",
       "      <th></th>\n",
       "      <th></th>\n",
       "      <th></th>\n",
       "      <th></th>\n",
       "      <th></th>\n",
       "      <th></th>\n",
       "      <th></th>\n",
       "      <th></th>\n",
       "    </tr>\n",
       "  </thead>\n",
       "  <tbody>\n",
       "    <tr>\n",
       "      <th>Avatar</th>\n",
       "      <td>7.9</td>\n",
       "      <td>1</td>\n",
       "      <td>0</td>\n",
       "      <td>0</td>\n",
       "      <td>0</td>\n",
       "      <td>0</td>\n",
       "      <td>0</td>\n",
       "      <td>0</td>\n",
       "      <td>0</td>\n",
       "      <td>0</td>\n",
       "      <td>...</td>\n",
       "      <td>1</td>\n",
       "      <td>0</td>\n",
       "      <td>0</td>\n",
       "      <td>0</td>\n",
       "      <td>0</td>\n",
       "      <td>0</td>\n",
       "      <td>0</td>\n",
       "      <td>0</td>\n",
       "      <td>0</td>\n",
       "      <td>0</td>\n",
       "    </tr>\n",
       "    <tr>\n",
       "      <th>Pirates of the Caribbean: At World's End</th>\n",
       "      <td>7.1</td>\n",
       "      <td>1</td>\n",
       "      <td>0</td>\n",
       "      <td>0</td>\n",
       "      <td>0</td>\n",
       "      <td>0</td>\n",
       "      <td>0</td>\n",
       "      <td>0</td>\n",
       "      <td>0</td>\n",
       "      <td>0</td>\n",
       "      <td>...</td>\n",
       "      <td>1</td>\n",
       "      <td>0</td>\n",
       "      <td>0</td>\n",
       "      <td>0</td>\n",
       "      <td>0</td>\n",
       "      <td>0</td>\n",
       "      <td>0</td>\n",
       "      <td>0</td>\n",
       "      <td>0</td>\n",
       "      <td>0</td>\n",
       "    </tr>\n",
       "    <tr>\n",
       "      <th>Spectre</th>\n",
       "      <td>6.8</td>\n",
       "      <td>1</td>\n",
       "      <td>0</td>\n",
       "      <td>0</td>\n",
       "      <td>0</td>\n",
       "      <td>0</td>\n",
       "      <td>0</td>\n",
       "      <td>0</td>\n",
       "      <td>0</td>\n",
       "      <td>0</td>\n",
       "      <td>...</td>\n",
       "      <td>1</td>\n",
       "      <td>0</td>\n",
       "      <td>0</td>\n",
       "      <td>0</td>\n",
       "      <td>0</td>\n",
       "      <td>0</td>\n",
       "      <td>0</td>\n",
       "      <td>0</td>\n",
       "      <td>0</td>\n",
       "      <td>0</td>\n",
       "    </tr>\n",
       "    <tr>\n",
       "      <th>The Dark Knight Rises</th>\n",
       "      <td>8.5</td>\n",
       "      <td>1</td>\n",
       "      <td>0</td>\n",
       "      <td>0</td>\n",
       "      <td>0</td>\n",
       "      <td>0</td>\n",
       "      <td>0</td>\n",
       "      <td>0</td>\n",
       "      <td>0</td>\n",
       "      <td>0</td>\n",
       "      <td>...</td>\n",
       "      <td>1</td>\n",
       "      <td>0</td>\n",
       "      <td>0</td>\n",
       "      <td>0</td>\n",
       "      <td>0</td>\n",
       "      <td>0</td>\n",
       "      <td>0</td>\n",
       "      <td>0</td>\n",
       "      <td>0</td>\n",
       "      <td>0</td>\n",
       "    </tr>\n",
       "    <tr>\n",
       "      <th>Star Wars: Episode VII - The Force Awakens</th>\n",
       "      <td>7.1</td>\n",
       "      <td>0</td>\n",
       "      <td>0</td>\n",
       "      <td>0</td>\n",
       "      <td>0</td>\n",
       "      <td>0</td>\n",
       "      <td>0</td>\n",
       "      <td>1</td>\n",
       "      <td>0</td>\n",
       "      <td>0</td>\n",
       "      <td>...</td>\n",
       "      <td>0</td>\n",
       "      <td>0</td>\n",
       "      <td>0</td>\n",
       "      <td>0</td>\n",
       "      <td>0</td>\n",
       "      <td>0</td>\n",
       "      <td>0</td>\n",
       "      <td>0</td>\n",
       "      <td>0</td>\n",
       "      <td>0</td>\n",
       "    </tr>\n",
       "    <tr>\n",
       "      <th>...</th>\n",
       "      <td>...</td>\n",
       "      <td>...</td>\n",
       "      <td>...</td>\n",
       "      <td>...</td>\n",
       "      <td>...</td>\n",
       "      <td>...</td>\n",
       "      <td>...</td>\n",
       "      <td>...</td>\n",
       "      <td>...</td>\n",
       "      <td>...</td>\n",
       "      <td>...</td>\n",
       "      <td>...</td>\n",
       "      <td>...</td>\n",
       "      <td>...</td>\n",
       "      <td>...</td>\n",
       "      <td>...</td>\n",
       "      <td>...</td>\n",
       "      <td>...</td>\n",
       "      <td>...</td>\n",
       "      <td>...</td>\n",
       "      <td>...</td>\n",
       "    </tr>\n",
       "    <tr>\n",
       "      <th>Signed Sealed Delivered</th>\n",
       "      <td>7.7</td>\n",
       "      <td>0</td>\n",
       "      <td>0</td>\n",
       "      <td>0</td>\n",
       "      <td>0</td>\n",
       "      <td>1</td>\n",
       "      <td>0</td>\n",
       "      <td>0</td>\n",
       "      <td>0</td>\n",
       "      <td>0</td>\n",
       "      <td>...</td>\n",
       "      <td>0</td>\n",
       "      <td>0</td>\n",
       "      <td>0</td>\n",
       "      <td>0</td>\n",
       "      <td>0</td>\n",
       "      <td>0</td>\n",
       "      <td>0</td>\n",
       "      <td>0</td>\n",
       "      <td>0</td>\n",
       "      <td>0</td>\n",
       "    </tr>\n",
       "    <tr>\n",
       "      <th>The Following</th>\n",
       "      <td>7.5</td>\n",
       "      <td>0</td>\n",
       "      <td>0</td>\n",
       "      <td>0</td>\n",
       "      <td>0</td>\n",
       "      <td>0</td>\n",
       "      <td>1</td>\n",
       "      <td>0</td>\n",
       "      <td>0</td>\n",
       "      <td>0</td>\n",
       "      <td>...</td>\n",
       "      <td>0</td>\n",
       "      <td>0</td>\n",
       "      <td>0</td>\n",
       "      <td>1</td>\n",
       "      <td>0</td>\n",
       "      <td>0</td>\n",
       "      <td>0</td>\n",
       "      <td>0</td>\n",
       "      <td>0</td>\n",
       "      <td>0</td>\n",
       "    </tr>\n",
       "    <tr>\n",
       "      <th>A Plague So Pleasant</th>\n",
       "      <td>6.3</td>\n",
       "      <td>0</td>\n",
       "      <td>0</td>\n",
       "      <td>0</td>\n",
       "      <td>0</td>\n",
       "      <td>0</td>\n",
       "      <td>0</td>\n",
       "      <td>0</td>\n",
       "      <td>1</td>\n",
       "      <td>0</td>\n",
       "      <td>...</td>\n",
       "      <td>0</td>\n",
       "      <td>0</td>\n",
       "      <td>0</td>\n",
       "      <td>0</td>\n",
       "      <td>0</td>\n",
       "      <td>0</td>\n",
       "      <td>0</td>\n",
       "      <td>0</td>\n",
       "      <td>0</td>\n",
       "      <td>0</td>\n",
       "    </tr>\n",
       "    <tr>\n",
       "      <th>Shanghai Calling</th>\n",
       "      <td>6.3</td>\n",
       "      <td>0</td>\n",
       "      <td>0</td>\n",
       "      <td>0</td>\n",
       "      <td>0</td>\n",
       "      <td>1</td>\n",
       "      <td>0</td>\n",
       "      <td>0</td>\n",
       "      <td>0</td>\n",
       "      <td>0</td>\n",
       "      <td>...</td>\n",
       "      <td>1</td>\n",
       "      <td>0</td>\n",
       "      <td>0</td>\n",
       "      <td>0</td>\n",
       "      <td>0</td>\n",
       "      <td>0</td>\n",
       "      <td>0</td>\n",
       "      <td>0</td>\n",
       "      <td>0</td>\n",
       "      <td>0</td>\n",
       "    </tr>\n",
       "    <tr>\n",
       "      <th>My Date with Drew</th>\n",
       "      <td>6.6</td>\n",
       "      <td>0</td>\n",
       "      <td>0</td>\n",
       "      <td>0</td>\n",
       "      <td>0</td>\n",
       "      <td>0</td>\n",
       "      <td>0</td>\n",
       "      <td>1</td>\n",
       "      <td>0</td>\n",
       "      <td>0</td>\n",
       "      <td>...</td>\n",
       "      <td>0</td>\n",
       "      <td>0</td>\n",
       "      <td>0</td>\n",
       "      <td>0</td>\n",
       "      <td>0</td>\n",
       "      <td>0</td>\n",
       "      <td>0</td>\n",
       "      <td>0</td>\n",
       "      <td>0</td>\n",
       "      <td>0</td>\n",
       "    </tr>\n",
       "  </tbody>\n",
       "</table>\n",
       "<p>4920 rows × 88 columns</p>\n",
       "</div>"
      ],
      "text/plain": [
       "                                                    imdb_score  genre1_Action  \\\n",
       "movie_title                                                                     \n",
       "Avatar                                                     7.9              1   \n",
       "Pirates of the Caribbean: At World's End                   7.1              1   \n",
       "Spectre                                                    6.8              1   \n",
       "The Dark Knight Rises                                      8.5              1   \n",
       "Star Wars: Episode VII - The Force Awakens     ...         7.1              0   \n",
       "...                                                        ...            ...   \n",
       "Signed Sealed Delivered                                    7.7              0   \n",
       "The Following                                              7.5              0   \n",
       "A Plague So Pleasant                                       6.3              0   \n",
       "Shanghai Calling                                           6.3              0   \n",
       "My Date with Drew                                          6.6              0   \n",
       "\n",
       "                                                    genre1_Adventure  \\\n",
       "movie_title                                                            \n",
       "Avatar                                                             0   \n",
       "Pirates of the Caribbean: At World's End                           0   \n",
       "Spectre                                                            0   \n",
       "The Dark Knight Rises                                              0   \n",
       "Star Wars: Episode VII - The Force Awakens     ...                 0   \n",
       "...                                                              ...   \n",
       "Signed Sealed Delivered                                            0   \n",
       "The Following                                                      0   \n",
       "A Plague So Pleasant                                               0   \n",
       "Shanghai Calling                                                   0   \n",
       "My Date with Drew                                                  0   \n",
       "\n",
       "                                                    genre1_Animation  \\\n",
       "movie_title                                                            \n",
       "Avatar                                                             0   \n",
       "Pirates of the Caribbean: At World's End                           0   \n",
       "Spectre                                                            0   \n",
       "The Dark Knight Rises                                              0   \n",
       "Star Wars: Episode VII - The Force Awakens     ...                 0   \n",
       "...                                                              ...   \n",
       "Signed Sealed Delivered                                            0   \n",
       "The Following                                                      0   \n",
       "A Plague So Pleasant                                               0   \n",
       "Shanghai Calling                                                   0   \n",
       "My Date with Drew                                                  0   \n",
       "\n",
       "                                                    genre1_Biography  \\\n",
       "movie_title                                                            \n",
       "Avatar                                                             0   \n",
       "Pirates of the Caribbean: At World's End                           0   \n",
       "Spectre                                                            0   \n",
       "The Dark Knight Rises                                              0   \n",
       "Star Wars: Episode VII - The Force Awakens     ...                 0   \n",
       "...                                                              ...   \n",
       "Signed Sealed Delivered                                            0   \n",
       "The Following                                                      0   \n",
       "A Plague So Pleasant                                               0   \n",
       "Shanghai Calling                                                   0   \n",
       "My Date with Drew                                                  0   \n",
       "\n",
       "                                                    genre1_Comedy  \\\n",
       "movie_title                                                         \n",
       "Avatar                                                          0   \n",
       "Pirates of the Caribbean: At World's End                        0   \n",
       "Spectre                                                         0   \n",
       "The Dark Knight Rises                                           0   \n",
       "Star Wars: Episode VII - The Force Awakens     ...              0   \n",
       "...                                                           ...   \n",
       "Signed Sealed Delivered                                         1   \n",
       "The Following                                                   0   \n",
       "A Plague So Pleasant                                            0   \n",
       "Shanghai Calling                                                1   \n",
       "My Date with Drew                                               0   \n",
       "\n",
       "                                                    genre1_Crime  \\\n",
       "movie_title                                                        \n",
       "Avatar                                                         0   \n",
       "Pirates of the Caribbean: At World's End                       0   \n",
       "Spectre                                                        0   \n",
       "The Dark Knight Rises                                          0   \n",
       "Star Wars: Episode VII - The Force Awakens     ...             0   \n",
       "...                                                          ...   \n",
       "Signed Sealed Delivered                                        0   \n",
       "The Following                                                  1   \n",
       "A Plague So Pleasant                                           0   \n",
       "Shanghai Calling                                               0   \n",
       "My Date with Drew                                              0   \n",
       "\n",
       "                                                    genre1_Documentary  \\\n",
       "movie_title                                                              \n",
       "Avatar                                                               0   \n",
       "Pirates of the Caribbean: At World's End                             0   \n",
       "Spectre                                                              0   \n",
       "The Dark Knight Rises                                                0   \n",
       "Star Wars: Episode VII - The Force Awakens     ...                   1   \n",
       "...                                                                ...   \n",
       "Signed Sealed Delivered                                              0   \n",
       "The Following                                                        0   \n",
       "A Plague So Pleasant                                                 0   \n",
       "Shanghai Calling                                                     0   \n",
       "My Date with Drew                                                    1   \n",
       "\n",
       "                                                    genre1_Drama  \\\n",
       "movie_title                                                        \n",
       "Avatar                                                         0   \n",
       "Pirates of the Caribbean: At World's End                       0   \n",
       "Spectre                                                        0   \n",
       "The Dark Knight Rises                                          0   \n",
       "Star Wars: Episode VII - The Force Awakens     ...             0   \n",
       "...                                                          ...   \n",
       "Signed Sealed Delivered                                        0   \n",
       "The Following                                                  0   \n",
       "A Plague So Pleasant                                           1   \n",
       "Shanghai Calling                                               0   \n",
       "My Date with Drew                                              0   \n",
       "\n",
       "                                                    genre1_Family  ...  \\\n",
       "movie_title                                                        ...   \n",
       "Avatar                                                          0  ...   \n",
       "Pirates of the Caribbean: At World's End                        0  ...   \n",
       "Spectre                                                         0  ...   \n",
       "The Dark Knight Rises                                           0  ...   \n",
       "Star Wars: Episode VII - The Force Awakens     ...              0  ...   \n",
       "...                                                           ...  ...   \n",
       "Signed Sealed Delivered                                         0  ...   \n",
       "The Following                                                   0  ...   \n",
       "A Plague So Pleasant                                            0  ...   \n",
       "Shanghai Calling                                                0  ...   \n",
       "My Date with Drew                                               0  ...   \n",
       "\n",
       "                                                    content_rating_PG-13  \\\n",
       "movie_title                                                                \n",
       "Avatar                                                                 1   \n",
       "Pirates of the Caribbean: At World's End                               1   \n",
       "Spectre                                                                1   \n",
       "The Dark Knight Rises                                                  1   \n",
       "Star Wars: Episode VII - The Force Awakens     ...                     0   \n",
       "...                                                                  ...   \n",
       "Signed Sealed Delivered                                                0   \n",
       "The Following                                                          0   \n",
       "A Plague So Pleasant                                                   0   \n",
       "Shanghai Calling                                                       1   \n",
       "My Date with Drew                                                      0   \n",
       "\n",
       "                                                    content_rating_Passed  \\\n",
       "movie_title                                                                 \n",
       "Avatar                                                                  0   \n",
       "Pirates of the Caribbean: At World's End                                0   \n",
       "Spectre                                                                 0   \n",
       "The Dark Knight Rises                                                   0   \n",
       "Star Wars: Episode VII - The Force Awakens     ...                      0   \n",
       "...                                                                   ...   \n",
       "Signed Sealed Delivered                                                 0   \n",
       "The Following                                                           0   \n",
       "A Plague So Pleasant                                                    0   \n",
       "Shanghai Calling                                                        0   \n",
       "My Date with Drew                                                       0   \n",
       "\n",
       "                                                    content_rating_R  \\\n",
       "movie_title                                                            \n",
       "Avatar                                                             0   \n",
       "Pirates of the Caribbean: At World's End                           0   \n",
       "Spectre                                                            0   \n",
       "The Dark Knight Rises                                              0   \n",
       "Star Wars: Episode VII - The Force Awakens     ...                 0   \n",
       "...                                                              ...   \n",
       "Signed Sealed Delivered                                            0   \n",
       "The Following                                                      0   \n",
       "A Plague So Pleasant                                               0   \n",
       "Shanghai Calling                                                   0   \n",
       "My Date with Drew                                                  0   \n",
       "\n",
       "                                                    content_rating_TV-14  \\\n",
       "movie_title                                                                \n",
       "Avatar                                                                 0   \n",
       "Pirates of the Caribbean: At World's End                               0   \n",
       "Spectre                                                                0   \n",
       "The Dark Knight Rises                                                  0   \n",
       "Star Wars: Episode VII - The Force Awakens     ...                     0   \n",
       "...                                                                  ...   \n",
       "Signed Sealed Delivered                                                0   \n",
       "The Following                                                          1   \n",
       "A Plague So Pleasant                                                   0   \n",
       "Shanghai Calling                                                       0   \n",
       "My Date with Drew                                                      0   \n",
       "\n",
       "                                                    content_rating_TV-G  \\\n",
       "movie_title                                                               \n",
       "Avatar                                                                0   \n",
       "Pirates of the Caribbean: At World's End                              0   \n",
       "Spectre                                                               0   \n",
       "The Dark Knight Rises                                                 0   \n",
       "Star Wars: Episode VII - The Force Awakens     ...                    0   \n",
       "...                                                                 ...   \n",
       "Signed Sealed Delivered                                               0   \n",
       "The Following                                                         0   \n",
       "A Plague So Pleasant                                                  0   \n",
       "Shanghai Calling                                                      0   \n",
       "My Date with Drew                                                     0   \n",
       "\n",
       "                                                    content_rating_TV-MA  \\\n",
       "movie_title                                                                \n",
       "Avatar                                                                 0   \n",
       "Pirates of the Caribbean: At World's End                               0   \n",
       "Spectre                                                                0   \n",
       "The Dark Knight Rises                                                  0   \n",
       "Star Wars: Episode VII - The Force Awakens     ...                     0   \n",
       "...                                                                  ...   \n",
       "Signed Sealed Delivered                                                0   \n",
       "The Following                                                          0   \n",
       "A Plague So Pleasant                                                   0   \n",
       "Shanghai Calling                                                       0   \n",
       "My Date with Drew                                                      0   \n",
       "\n",
       "                                                    content_rating_TV-PG  \\\n",
       "movie_title                                                                \n",
       "Avatar                                                                 0   \n",
       "Pirates of the Caribbean: At World's End                               0   \n",
       "Spectre                                                                0   \n",
       "The Dark Knight Rises                                                  0   \n",
       "Star Wars: Episode VII - The Force Awakens     ...                     0   \n",
       "...                                                                  ...   \n",
       "Signed Sealed Delivered                                                0   \n",
       "The Following                                                          0   \n",
       "A Plague So Pleasant                                                   0   \n",
       "Shanghai Calling                                                       0   \n",
       "My Date with Drew                                                      0   \n",
       "\n",
       "                                                    content_rating_TV-Y  \\\n",
       "movie_title                                                               \n",
       "Avatar                                                                0   \n",
       "Pirates of the Caribbean: At World's End                              0   \n",
       "Spectre                                                               0   \n",
       "The Dark Knight Rises                                                 0   \n",
       "Star Wars: Episode VII - The Force Awakens     ...                    0   \n",
       "...                                                                 ...   \n",
       "Signed Sealed Delivered                                               0   \n",
       "The Following                                                         0   \n",
       "A Plague So Pleasant                                                  0   \n",
       "Shanghai Calling                                                      0   \n",
       "My Date with Drew                                                     0   \n",
       "\n",
       "                                                    content_rating_TV-Y7  \\\n",
       "movie_title                                                                \n",
       "Avatar                                                                 0   \n",
       "Pirates of the Caribbean: At World's End                               0   \n",
       "Spectre                                                                0   \n",
       "The Dark Knight Rises                                                  0   \n",
       "Star Wars: Episode VII - The Force Awakens     ...                     0   \n",
       "...                                                                  ...   \n",
       "Signed Sealed Delivered                                                0   \n",
       "The Following                                                          0   \n",
       "A Plague So Pleasant                                                   0   \n",
       "Shanghai Calling                                                       0   \n",
       "My Date with Drew                                                      0   \n",
       "\n",
       "                                                    content_rating_X  \n",
       "movie_title                                                           \n",
       "Avatar                                                             0  \n",
       "Pirates of the Caribbean: At World's End                           0  \n",
       "Spectre                                                            0  \n",
       "The Dark Knight Rises                                              0  \n",
       "Star Wars: Episode VII - The Force Awakens     ...                 0  \n",
       "...                                                              ...  \n",
       "Signed Sealed Delivered                                            0  \n",
       "The Following                                                      0  \n",
       "A Plague So Pleasant                                               0  \n",
       "Shanghai Calling                                                   0  \n",
       "My Date with Drew                                                  0  \n",
       "\n",
       "[4920 rows x 88 columns]"
      ]
     },
     "execution_count": 33,
     "metadata": {},
     "output_type": "execute_result"
    }
   ],
   "source": [
    "data3"
   ]
  },
  {
   "cell_type": "code",
   "execution_count": 35,
   "metadata": {
    "id": "HRz-k9bhu69g"
   },
   "outputs": [],
   "source": [
    "data3=data3.dropna()"
   ]
  },
  {
   "cell_type": "code",
   "execution_count": 36,
   "metadata": {
    "id": "N7ccCL9Bu69g"
   },
   "outputs": [],
   "source": [
    "from sklearn.neighbors import NearestNeighbors"
   ]
  },
  {
   "cell_type": "code",
   "execution_count": 37,
   "metadata": {
    "id": "jrfFEENqu69g",
    "outputId": "7393aba4-ce29-4ef5-f43b-381509aec151"
   },
   "outputs": [
    {
     "data": {
      "text/plain": [
       "NearestNeighbors(metric='cosine')"
      ]
     },
     "execution_count": 37,
     "metadata": {},
     "output_type": "execute_result"
    }
   ],
   "source": [
    "rec_model = NearestNeighbors(metric = 'cosine')\n",
    "rec_model.fit(data3)"
   ]
  },
  {
   "cell_type": "code",
   "execution_count": null,
   "metadata": {
    "id": "MtrjXnjJu69g"
   },
   "outputs": [],
   "source": [
    "query_movie_index=200\n",
    "dist, ind = rec_model.kneighbors(data3.iloc[query_movie_index, :].values.reshape(1, -1), n_neighbors = 6)"
   ]
  },
  {
   "cell_type": "code",
   "execution_count": 51,
   "metadata": {},
   "outputs": [
    {
     "data": {
      "text/plain": [
       "array([[7.5, 0. , 1. , 0. , 0. , 0. , 0. , 0. , 0. , 0. , 0. , 0. , 0. ,\n",
       "        0. , 0. , 0. , 0. , 0. , 0. , 0. , 0. , 0. , 0. , 0. , 0. , 0. ,\n",
       "        0. , 0. , 0. , 1. , 0. , 0. , 0. , 0. , 0. , 0. , 0. , 0. , 0. ,\n",
       "        0. , 0. , 0. , 0. , 0. , 0. , 0. , 0. , 0. , 0. , 0. , 0. , 0. ,\n",
       "        0. , 0. , 1. , 0. , 0. , 0. , 0. , 0. , 0. , 0. , 0. , 0. , 0. ,\n",
       "        0. , 0. , 0. , 0. , 0. , 0. , 0. , 0. , 0. , 0. , 0. , 0. , 1. ,\n",
       "        0. , 0. , 0. , 0. , 0. , 0. , 0. , 0. , 0. , 0. ]])"
      ]
     },
     "execution_count": 51,
     "metadata": {},
     "output_type": "execute_result"
    }
   ],
   "source": [
    "data3.iloc[200,:].values.reshape(1,-1)"
   ]
  },
  {
   "cell_type": "code",
   "execution_count": 48,
   "metadata": {
    "id": "YtquzjEYu69h",
    "outputId": "ee8cdcf0-1dc8-4537-e58f-5c12a34913ec"
   },
   "outputs": [
    {
     "data": {
      "text/plain": [
       "array([[0.00000000e+00, 0.00000000e+00, 5.64927068e-06, 2.31771028e-05,\n",
       "        4.60768152e-05, 1.71688456e-04]])"
      ]
     },
     "execution_count": 48,
     "metadata": {},
     "output_type": "execute_result"
    }
   ],
   "source": []
  },
  {
   "cell_type": "code",
   "execution_count": 33,
   "metadata": {
    "id": "cClfvN9Yu69h",
    "outputId": "aa946613-90bb-495e-e0df-3645cbc1bec7"
   },
   "outputs": [
    {
     "name": "stdout",
     "output_type": "stream",
     "text": [
      "Top 5 Recommendations for the user who watched the movie : Harry Potter and the Sorcerer's Stone \n",
      "1 Harry Potter and the Half-Blood Prince \n",
      "2 Harry Potter and the Chamber of Secrets \n",
      "3 Pete's Dragon \n",
      "4 Harry Potter and the Prisoner of Azkaban \n",
      "5 The Princess Bride \n"
     ]
    }
   ],
   "source": [
    "for i in range(0, len(dist[0])):\n",
    "    if i == 0:\n",
    "        print('Top 5 Recommendations for the user who watched the movie :',data3.index[query_movie_index])\n",
    "    else:\n",
    "        print(i, data3.index[ind[0][i]])"
   ]
  },
  {
   "cell_type": "code",
   "execution_count": 34,
   "metadata": {
    "id": "GMaoc6h9u69h"
   },
   "outputs": [],
   "source": [
    "#data3.loc[data3.index[ind][0]]"
   ]
  },
  {
   "cell_type": "markdown",
   "metadata": {
    "id": "JPLFUHGZu69h"
   },
   "source": [
    "<a id=\"System5\"> </a>\n",
    "\n",
    "###  Collaborative recommendation system"
   ]
  },
  {
   "cell_type": "markdown",
   "metadata": {
    "id": "DuJvsTZ7u69h"
   },
   "source": [
    "<table align=\"left\">\n",
    "    <tr>\n",
    "        <td width=\"15%\">\n",
    "            </td>\n",
    "        <td>\n",
    "            <div align=\"left\", style=\"font-size:120%\">\n",
    "                <font color=\"#21618C\">\n",
    "                    <b>Collaborative filtering is currently one of the most frequently used approaches and usually provides better results than content-based recommendations. Some examples of this are found in the recommendation systems of Youtube, Netflix, and Spotify.\n",
    "                        \n",
    "                        \n",
    "Collaborative Filtering, which is also known as User-User Filtering. As hinted by its alternate name, this technique uses other users to recommend items to the input user. It attempts to find users that have similar preferences and opinions as the input and then recommends items that they have liked to the input. There are several methods of finding similar users (Even some making use of Machine Learning), and the one we will be using here is going to be based on the Pearson Correlation Function.\n",
    "\n",
    "<br>\n",
    "                    </b>\n",
    "                </font>\n",
    "            </div>\n",
    "        </td>\n",
    "    </tr>\n",
    "</table>"
   ]
  },
  {
   "cell_type": "markdown",
   "metadata": {
    "id": "vb2pr6vcu69h"
   },
   "source": [
    "<table align=\"left\">\n",
    "    <tr>\n",
    "        <td width=\"15%\">\n",
    "        </td>\n",
    "        <td>\n",
    "            <div align=\"left\", style=\"font-size:200%\">\n",
    "                <font color=\"#21618C\">\n",
    "                    <b>Read the ratings.csv dataset.<br>\n",
    "                    </b>\n",
    "                </font>\n",
    "            </div>\n",
    "        </td>\n",
    "    </tr>\n",
    "</table>"
   ]
  },
  {
   "cell_type": "code",
   "execution_count": null,
   "metadata": {
    "id": "G89bpe9tu69h"
   },
   "outputs": [],
   "source": []
  },
  {
   "cell_type": "markdown",
   "metadata": {
    "id": "tjJVla9eu69i"
   },
   "source": [
    "### Collaborative Based Recommendation"
   ]
  },
  {
   "cell_type": "code",
   "execution_count": 49,
   "metadata": {
    "id": "46vTuDHPu69l"
   },
   "outputs": [],
   "source": [
    "from surprise import Dataset, Reader\n",
    "from surprise.model_selection import train_test_split, cross_validate\n",
    "from surprise import KNNWithMeans,SVDpp\n",
    "from surprise import accuracy\n"
   ]
  },
  {
   "cell_type": "code",
   "execution_count": null,
   "metadata": {
    "id": "nEfxMHXau69l"
   },
   "outputs": [],
   "source": [
    "ratings = pd.read_csv('ratings.csv')\n",
    "reader = Reader(rating_scale=(1, 5))"
   ]
  },
  {
   "cell_type": "code",
   "execution_count": null,
   "metadata": {
    "id": "-b7fNy-8u69m",
    "outputId": "918c7b84-f919-4f5b-9116-5117ef439708"
   },
   "outputs": [],
   "source": [
    "ratings.head(3)"
   ]
  },
  {
   "cell_type": "code",
   "execution_count": null,
   "metadata": {
    "id": "VyHiB627u69m"
   },
   "outputs": [],
   "source": [
    "rating_data = Dataset.load_from_df(ratings[['userId','movieId','rating']],reader)\n",
    "[trainset, testset] = train_test_split(rating_data, test_size=.15,shuffle=True)"
   ]
  },
  {
   "cell_type": "code",
   "execution_count": null,
   "metadata": {
    "id": "y7blt7j9u69m",
    "outputId": "1e9cc650-94ea-440d-cbf5-ea5d34c69009"
   },
   "outputs": [],
   "source": [
    "trainsetfull = rating_data.build_full_trainset()\n",
    "print('Number of users: ', trainsetfull.n_users, '\\n')\n",
    "print('Number of items: ', trainsetfull.n_items, '\\n')"
   ]
  },
  {
   "cell_type": "code",
   "execution_count": null,
   "metadata": {
    "id": "JoVHfUm0u69m"
   },
   "outputs": [],
   "source": [
    "# my_k = 15\n",
    "# my_min_k = 5\n",
    "# my_sim_option = {'name':'pearson', 'user_based':False}"
   ]
  },
  {
   "cell_type": "code",
   "execution_count": null,
   "metadata": {
    "id": "TYBNs49uu69m"
   },
   "outputs": [],
   "source": [
    "# algo = KNNWithMeans(k = my_k, min_k = my_min_k, sim_options = my_sim_option, verbose = True)"
   ]
  },
  {
   "cell_type": "code",
   "execution_count": null,
   "metadata": {
    "id": "vjz7QcUXu69m",
    "outputId": "392c2381-49d8-40f2-8e66-707ceba8c4d8"
   },
   "outputs": [],
   "source": [
    "# results = cross_validate(\n",
    "#     algo = algo, data = rating_data, measures=['RMSE'], \n",
    "#     cv=5, return_train_measures=True\n",
    "#     )"
   ]
  },
  {
   "cell_type": "code",
   "execution_count": null,
   "metadata": {
    "id": "ry4Wnaytu69n",
    "outputId": "c129b0c2-ccd3-49b2-9765-b6a505c7624e"
   },
   "outputs": [],
   "source": [
    "# print(results['test_rmse'].mean())"
   ]
  },
  {
   "cell_type": "code",
   "execution_count": null,
   "metadata": {
    "id": "vNBY02BXu69n",
    "outputId": "fba24c3e-d7e2-4ef6-e6db-ff3ef2b945a1"
   },
   "outputs": [],
   "source": [
    "alg=SVDpp()\n",
    "alg.fit(trainsetfull)"
   ]
  },
  {
   "cell_type": "code",
   "execution_count": null,
   "metadata": {
    "id": "jtg_t71Nu69n",
    "outputId": "e9068b83-b338-420f-ddbe-11d0447cc70a"
   },
   "outputs": [],
   "source": [
    "#algo.fit(trainsetfull)"
   ]
  },
  {
   "cell_type": "code",
   "execution_count": null,
   "metadata": {
    "id": "UQ9odSveu69n",
    "outputId": "47e71c2c-a406-4989-807a-100b8517f0e5"
   },
   "outputs": [],
   "source": [
    "algo.predict(uid = 50, iid =2)"
   ]
  },
  {
   "cell_type": "code",
   "execution_count": null,
   "metadata": {
    "id": "JfLqvQftu69n"
   },
   "outputs": [],
   "source": [
    "item_id=ratings['movieId'].unique()\n",
    "item_id10=ratings.loc[ratings['userId']==10,'movieId']\n",
    "item_id_pred=np.setdiff1d(item_id,item_id10)"
   ]
  },
  {
   "cell_type": "code",
   "execution_count": null,
   "metadata": {
    "id": "7_PB-lg2u69n",
    "outputId": "569e4223-ba69-45b6-98cd-0d86d1a36eed"
   },
   "outputs": [],
   "source": [
    "item_id_pred"
   ]
  },
  {
   "cell_type": "code",
   "execution_count": null,
   "metadata": {
    "id": "TMZ5bFx0u69o",
    "outputId": "02cb6965-9025-4b0f-9a9b-208d6b722691"
   },
   "outputs": [],
   "source": [
    "testset=[[50,iid,4] for iid in item_id_pred]\n",
    "pred=alg.test(testset)\n",
    "pred"
   ]
  },
  {
   "cell_type": "code",
   "execution_count": null,
   "metadata": {
    "id": "B7jrSQXbu69o",
    "outputId": "ab3a022d-ed6f-4fee-e606-b02c5b016407"
   },
   "outputs": [],
   "source": [
    "pred_ratings=np.array([pred1.est for pred1 in pred])\n",
    "i_max=pred_ratings.argmax()\n",
    "iid=item_id_pred[i_max]\n",
    "print(\"Top item for user 10 has iid {0} with predicted rating {1}\".format(iid,pred_ratings[i_max]))"
   ]
  },
  {
   "cell_type": "code",
   "execution_count": 3,
   "metadata": {
    "id": "ma9_2ZHKu69o"
   },
   "outputs": [
    {
     "ename": "NameError",
     "evalue": "name 'python__version__' is not defined",
     "output_type": "error",
     "traceback": [
      "\u001b[1;31m---------------------------------------------------------------------------\u001b[0m",
      "\u001b[1;31mNameError\u001b[0m                                 Traceback (most recent call last)",
      "Input \u001b[1;32mIn [3]\u001b[0m, in \u001b[0;36m<cell line: 1>\u001b[1;34m()\u001b[0m\n\u001b[1;32m----> 1\u001b[0m \u001b[43mpython__version__\u001b[49m\n",
      "\u001b[1;31mNameError\u001b[0m: name 'python__version__' is not defined"
     ]
    }
   ],
   "source": [
    "python__version__"
   ]
  },
  {
   "cell_type": "code",
   "execution_count": null,
   "metadata": {},
   "outputs": [],
   "source": []
  }
 ],
 "metadata": {
  "colab": {
   "name": "Session4_FacultyNoteBook.ipynb",
   "provenance": []
  },
  "kernelspec": {
   "display_name": "Python 3 (ipykernel)",
   "language": "python",
   "name": "python3"
  },
  "language_info": {
   "codemirror_mode": {
    "name": "ipython",
    "version": 3
   },
   "file_extension": ".py",
   "mimetype": "text/x-python",
   "name": "python",
   "nbconvert_exporter": "python",
   "pygments_lexer": "ipython3",
   "version": "3.9.12"
  }
 },
 "nbformat": 4,
 "nbformat_minor": 1
}
